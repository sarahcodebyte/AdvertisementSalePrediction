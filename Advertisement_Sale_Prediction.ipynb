{
  "nbformat": 4,
  "nbformat_minor": 0,
  "metadata": {
    "colab": {
      "name": "Advertisement Sale Prediction.ipynb",
      "provenance": [],
      "collapsed_sections": [],
      "authorship_tag": "ABX9TyPxCkYe8od7qJHzBhEETDxs",
      "include_colab_link": true
    },
    "kernelspec": {
      "name": "python3",
      "display_name": "Python 3"
    },
    "language_info": {
      "name": "python"
    }
  },
  "cells": [
    {
      "cell_type": "markdown",
      "metadata": {
        "id": "view-in-github",
        "colab_type": "text"
      },
      "source": [
        "<a href=\"https://colab.research.google.com/github/sarahcodebyte/AdvertisementSalePrediction/blob/main/Advertisement_Sale_Prediction.ipynb\" target=\"_parent\"><img src=\"https://colab.research.google.com/assets/colab-badge.svg\" alt=\"Open In Colab\"/></a>"
      ]
    },
    {
      "cell_type": "markdown",
      "source": [
        "Importing dependencies\n"
      ],
      "metadata": {
        "id": "p74kPTmdTUma"
      }
    },
    {
      "cell_type": "code",
      "execution_count": 21,
      "metadata": {
        "id": "ORc98tzz33vt"
      },
      "outputs": [],
      "source": [
        "import pandas as pd\n",
        "import numpy as np\n",
        "from sklearn.model_selection import train_test_split\n",
        "from sklearn.preprocessing import StandardScaler\n",
        "from sklearn.linear_model import LogisticRegression\n",
        "from sklearn.metrics import accuracy_score, confusion_matrix"
      ]
    },
    {
      "cell_type": "markdown",
      "source": [
        "Load Dataset"
      ],
      "metadata": {
        "id": "cBXO8_UrYZfi"
      }
    },
    {
      "cell_type": "code",
      "source": [
        "dataset = pd.read_csv('/content/Digital AdDataset - Sheet1.csv')\n",
        "dataset.head()"
      ],
      "metadata": {
        "colab": {
          "base_uri": "https://localhost:8080/",
          "height": 206
        },
        "id": "ro8dy_0iYX3l",
        "outputId": "f1614067-6993-4b30-d0d9-36d5481c6108"
      },
      "execution_count": 3,
      "outputs": [
        {
          "output_type": "execute_result",
          "data": {
            "text/plain": [
              "   Age  Salary  Status\n",
              "0   50  114793       1\n",
              "1   35  180352       0\n",
              "2   21   96328       1\n",
              "3   75   34961       0\n",
              "4   46  169833       1"
            ],
            "text/html": [
              "\n",
              "  <div id=\"df-7b32e13e-c09b-41c2-a848-979fe6c8bfcd\">\n",
              "    <div class=\"colab-df-container\">\n",
              "      <div>\n",
              "<style scoped>\n",
              "    .dataframe tbody tr th:only-of-type {\n",
              "        vertical-align: middle;\n",
              "    }\n",
              "\n",
              "    .dataframe tbody tr th {\n",
              "        vertical-align: top;\n",
              "    }\n",
              "\n",
              "    .dataframe thead th {\n",
              "        text-align: right;\n",
              "    }\n",
              "</style>\n",
              "<table border=\"1\" class=\"dataframe\">\n",
              "  <thead>\n",
              "    <tr style=\"text-align: right;\">\n",
              "      <th></th>\n",
              "      <th>Age</th>\n",
              "      <th>Salary</th>\n",
              "      <th>Status</th>\n",
              "    </tr>\n",
              "  </thead>\n",
              "  <tbody>\n",
              "    <tr>\n",
              "      <th>0</th>\n",
              "      <td>50</td>\n",
              "      <td>114793</td>\n",
              "      <td>1</td>\n",
              "    </tr>\n",
              "    <tr>\n",
              "      <th>1</th>\n",
              "      <td>35</td>\n",
              "      <td>180352</td>\n",
              "      <td>0</td>\n",
              "    </tr>\n",
              "    <tr>\n",
              "      <th>2</th>\n",
              "      <td>21</td>\n",
              "      <td>96328</td>\n",
              "      <td>1</td>\n",
              "    </tr>\n",
              "    <tr>\n",
              "      <th>3</th>\n",
              "      <td>75</td>\n",
              "      <td>34961</td>\n",
              "      <td>0</td>\n",
              "    </tr>\n",
              "    <tr>\n",
              "      <th>4</th>\n",
              "      <td>46</td>\n",
              "      <td>169833</td>\n",
              "      <td>1</td>\n",
              "    </tr>\n",
              "  </tbody>\n",
              "</table>\n",
              "</div>\n",
              "      <button class=\"colab-df-convert\" onclick=\"convertToInteractive('df-7b32e13e-c09b-41c2-a848-979fe6c8bfcd')\"\n",
              "              title=\"Convert this dataframe to an interactive table.\"\n",
              "              style=\"display:none;\">\n",
              "        \n",
              "  <svg xmlns=\"http://www.w3.org/2000/svg\" height=\"24px\"viewBox=\"0 0 24 24\"\n",
              "       width=\"24px\">\n",
              "    <path d=\"M0 0h24v24H0V0z\" fill=\"none\"/>\n",
              "    <path d=\"M18.56 5.44l.94 2.06.94-2.06 2.06-.94-2.06-.94-.94-2.06-.94 2.06-2.06.94zm-11 1L8.5 8.5l.94-2.06 2.06-.94-2.06-.94L8.5 2.5l-.94 2.06-2.06.94zm10 10l.94 2.06.94-2.06 2.06-.94-2.06-.94-.94-2.06-.94 2.06-2.06.94z\"/><path d=\"M17.41 7.96l-1.37-1.37c-.4-.4-.92-.59-1.43-.59-.52 0-1.04.2-1.43.59L10.3 9.45l-7.72 7.72c-.78.78-.78 2.05 0 2.83L4 21.41c.39.39.9.59 1.41.59.51 0 1.02-.2 1.41-.59l7.78-7.78 2.81-2.81c.8-.78.8-2.07 0-2.86zM5.41 20L4 18.59l7.72-7.72 1.47 1.35L5.41 20z\"/>\n",
              "  </svg>\n",
              "      </button>\n",
              "      \n",
              "  <style>\n",
              "    .colab-df-container {\n",
              "      display:flex;\n",
              "      flex-wrap:wrap;\n",
              "      gap: 12px;\n",
              "    }\n",
              "\n",
              "    .colab-df-convert {\n",
              "      background-color: #E8F0FE;\n",
              "      border: none;\n",
              "      border-radius: 50%;\n",
              "      cursor: pointer;\n",
              "      display: none;\n",
              "      fill: #1967D2;\n",
              "      height: 32px;\n",
              "      padding: 0 0 0 0;\n",
              "      width: 32px;\n",
              "    }\n",
              "\n",
              "    .colab-df-convert:hover {\n",
              "      background-color: #E2EBFA;\n",
              "      box-shadow: 0px 1px 2px rgba(60, 64, 67, 0.3), 0px 1px 3px 1px rgba(60, 64, 67, 0.15);\n",
              "      fill: #174EA6;\n",
              "    }\n",
              "\n",
              "    [theme=dark] .colab-df-convert {\n",
              "      background-color: #3B4455;\n",
              "      fill: #D2E3FC;\n",
              "    }\n",
              "\n",
              "    [theme=dark] .colab-df-convert:hover {\n",
              "      background-color: #434B5C;\n",
              "      box-shadow: 0px 1px 3px 1px rgba(0, 0, 0, 0.15);\n",
              "      filter: drop-shadow(0px 1px 2px rgba(0, 0, 0, 0.3));\n",
              "      fill: #FFFFFF;\n",
              "    }\n",
              "  </style>\n",
              "\n",
              "      <script>\n",
              "        const buttonEl =\n",
              "          document.querySelector('#df-7b32e13e-c09b-41c2-a848-979fe6c8bfcd button.colab-df-convert');\n",
              "        buttonEl.style.display =\n",
              "          google.colab.kernel.accessAllowed ? 'block' : 'none';\n",
              "\n",
              "        async function convertToInteractive(key) {\n",
              "          const element = document.querySelector('#df-7b32e13e-c09b-41c2-a848-979fe6c8bfcd');\n",
              "          const dataTable =\n",
              "            await google.colab.kernel.invokeFunction('convertToInteractive',\n",
              "                                                     [key], {});\n",
              "          if (!dataTable) return;\n",
              "\n",
              "          const docLinkHtml = 'Like what you see? Visit the ' +\n",
              "            '<a target=\"_blank\" href=https://colab.research.google.com/notebooks/data_table.ipynb>data table notebook</a>'\n",
              "            + ' to learn more about interactive tables.';\n",
              "          element.innerHTML = '';\n",
              "          dataTable['output_type'] = 'display_data';\n",
              "          await google.colab.output.renderOutput(dataTable, element);\n",
              "          const docLink = document.createElement('div');\n",
              "          docLink.innerHTML = docLinkHtml;\n",
              "          element.appendChild(docLink);\n",
              "        }\n",
              "      </script>\n",
              "    </div>\n",
              "  </div>\n",
              "  "
            ]
          },
          "metadata": {},
          "execution_count": 3
        }
      ]
    },
    {
      "cell_type": "code",
      "source": [
        "#checking distribution of status\n",
        "dataset['Status'].value_counts()"
      ],
      "metadata": {
        "colab": {
          "base_uri": "https://localhost:8080/"
        },
        "id": "8a8-QKKjbSLq",
        "outputId": "b515e18f-19af-457c-9952-6aa3966922e2"
      },
      "execution_count": 4,
      "outputs": [
        {
          "output_type": "execute_result",
          "data": {
            "text/plain": [
              "0    154\n",
              "1    145\n",
              "Name: Status, dtype: int64"
            ]
          },
          "metadata": {},
          "execution_count": 4
        }
      ]
    },
    {
      "cell_type": "markdown",
      "source": [
        "Data Splitting"
      ],
      "metadata": {
        "id": "nu-p25ENbCN8"
      }
    },
    {
      "cell_type": "code",
      "source": [
        "X = dataset.drop(columns='Status', axis = 1)\n",
        "Y = dataset['Status']\n",
        "print(X)\n",
        "print(Y)"
      ],
      "metadata": {
        "colab": {
          "base_uri": "https://localhost:8080/"
        },
        "id": "LCbZwvaxYxwh",
        "outputId": "3da9d3d1-588e-4dee-8d89-95560a0be72d"
      },
      "execution_count": 8,
      "outputs": [
        {
          "output_type": "stream",
          "name": "stdout",
          "text": [
            "     Age  Salary\n",
            "0     50  114793\n",
            "1     35  180352\n",
            "2     21   96328\n",
            "3     75   34961\n",
            "4     46  169833\n",
            "..   ...     ...\n",
            "294   64  183151\n",
            "295   33  130211\n",
            "296   74  199878\n",
            "297   48  138284\n",
            "298   33   62243\n",
            "\n",
            "[299 rows x 2 columns]\n",
            "0      1\n",
            "1      0\n",
            "2      1\n",
            "3      0\n",
            "4      1\n",
            "      ..\n",
            "294    1\n",
            "295    0\n",
            "296    1\n",
            "297    0\n",
            "298    1\n",
            "Name: Status, Length: 299, dtype: int64\n"
          ]
        }
      ]
    },
    {
      "cell_type": "markdown",
      "source": [
        "Data Splitting for training and testing"
      ],
      "metadata": {
        "id": "ObqVLMtpdTh2"
      }
    },
    {
      "cell_type": "code",
      "source": [
        "X_train, X_test, Y_train, Y_test = train_test_split(X, Y, test_size=0.2, stratify=Y, random_state=2)"
      ],
      "metadata": {
        "id": "Y-yVMjw_dpN6"
      },
      "execution_count": 11,
      "outputs": []
    },
    {
      "cell_type": "markdown",
      "source": [
        "Rescaling our data for new data to be accurately tested\n",
        "\n",
        "Note: Rescaling is done so that the data parameters are more or less similar to each other. This also ensures prevention of overfitting"
      ],
      "metadata": {
        "id": "VYiDcHf0eDKx"
      }
    },
    {
      "cell_type": "code",
      "source": [
        "sc = StandardScaler()\n",
        "X_train = sc.fit_transform(X_train)\n",
        "X_test = sc.fit_transform(X_test)\n",
        "print(X_train)"
      ],
      "metadata": {
        "colab": {
          "base_uri": "https://localhost:8080/"
        },
        "id": "SXe6g-mneIo-",
        "outputId": "2adbbc00-3599-4451-df34-ed685032b3c2"
      },
      "execution_count": 13,
      "outputs": [
        {
          "output_type": "stream",
          "name": "stdout",
          "text": [
            "[[-1.42576918  0.83167415]\n",
            " [ 0.3830534  -0.26980673]\n",
            " [ 0.14965694 -1.34028769]\n",
            " [-1.25072184 -0.16961059]\n",
            " [ 1.02489367  0.20261384]\n",
            " [ 0.44140251  1.11071433]\n",
            " [ 1.49168659 -0.14613513]\n",
            " [ 1.55003571  0.76247792]\n",
            " [ 0.3830534  -1.76852519]\n",
            " [ 1.60838482  1.71365435]\n",
            " [ 1.08324278 -1.72462915]\n",
            " [-0.25878687 -0.79582105]\n",
            " [ 1.08324278 -1.00502942]\n",
            " [ 0.79149721  1.41023659]\n",
            " [-0.43383422 -0.30720344]\n",
            " [ 1.25829013 -1.47412857]\n",
            " [ 0.32470428 -0.75426231]\n",
            " [ 0.67479898  1.46098049]\n",
            " [-1.54246741  0.65768921]\n",
            " [-1.36742007 -1.5965085 ]\n",
            " [ 1.66673394 -0.16458746]\n",
            " [ 0.73314809 -0.09680591]\n",
            " [ 1.02489367 -1.45540971]\n",
            " [ 0.67479898  1.40527497]\n",
            " [ 1.25829013 -1.7527792 ]\n",
            " [ 1.25829013 -0.88646297]\n",
            " [ 1.02489367 -0.79735874]\n",
            " [ 0.44140251 -1.02540899]\n",
            " [-0.02539041 -1.44462535]\n",
            " [ 1.08324278 -0.93048202]\n",
            " [ 1.08324278 -1.32261446]\n",
            " [ 1.43333748  0.80772713]\n",
            " [ 0.55810075 -0.05366848]\n",
            " [-0.31713599  0.31925304]\n",
            " [-1.1340236  -0.71524589]\n",
            " [ 1.19994102  0.84670254]\n",
            " [-0.25878687 -1.36288154]\n",
            " [ 1.08324278  0.56577612]\n",
            " [ 0.03295871 -1.33938558]\n",
            " [-0.31713599 -1.50221711]\n",
            " [-1.19237272  1.56626127]\n",
            " [ 1.31663925 -1.43363596]\n",
            " [-0.20043776  0.51396609]\n",
            " [-1.01732537  0.70131871]\n",
            " [-1.01732537 -0.23763817]\n",
            " [ 0.26635517  1.68566832]\n",
            " [-1.42576918  1.12422553]\n",
            " [-1.30907095  0.94876441]\n",
            " [-0.14208864 -0.10748776]\n",
            " [-0.25878687  1.0033628 ]\n",
            " [-1.25072184  1.31069654]\n",
            " [-0.20043776 -0.57980581]\n",
            " [ 0.26635517 -0.91949264]\n",
            " [ 0.09130782 -1.57040871]\n",
            " [-0.20043776 -0.21777117]\n",
            " [ 0.09130782 -1.0389202 ]\n",
            " [ 0.73314809  0.3760042 ]\n",
            " [ 0.14965694 -1.42016576]\n",
            " [ 0.3830534  -1.1016171 ]\n",
            " [ 1.66673394 -1.16070555]\n",
            " [-0.78392891 -0.85618066]\n",
            " [ 0.84984632 -0.46591395]\n",
            " [-0.66723068 -1.76091873]\n",
            " [ 1.19994102  1.0803295 ]\n",
            " [-0.90062714  0.76114526]\n",
            " [ 0.84984632  0.40975145]\n",
            " [-0.66723068 -1.73280968]\n",
            " [-1.36742007  0.95413609]\n",
            " [-0.95897626 -1.02342024]\n",
            " [-0.31713599  0.57377213]\n",
            " [-0.31713599  0.51892772]\n",
            " [ 1.37498836  0.43681486]\n",
            " [ 1.02489367  1.37070761]\n",
            " [-1.36742007 -1.21239257]\n",
            " [-0.95897626  0.81838847]\n",
            " [ 1.02489367 -0.65322557]\n",
            " [-1.25072184 -1.11039221]\n",
            " [ 1.60838482 -0.25248204]\n",
            " [-0.78392891 -0.97757646]\n",
            " [-1.19237272  1.47861271]\n",
            " [ 1.25829013 -1.32068722]\n",
            " [ 0.14965694  0.33545008]\n",
            " [-1.07567449 -1.29868795]\n",
            " [-0.55053245 -1.40200047]\n",
            " [-0.95897626 -0.03890661]\n",
            " [-1.42576918 -0.10943551]\n",
            " [ 0.73314809  0.39086857]\n",
            " [-0.3754851  -0.33086342]\n",
            " [ 0.79149721  1.385695  ]\n",
            " [-0.90062714 -0.45527311]\n",
            " [-1.01732537  0.74779807]\n",
            " [-0.02539041 -0.90259851]\n",
            " [-0.95897626  1.1374702 ]\n",
            " [-1.36742007  1.07965291]\n",
            " [-1.42576918  0.66750995]\n",
            " [ 0.26635517 -1.15525186]\n",
            " [ 1.60838482  0.70195429]\n",
            " [-1.30907095  1.17742974]\n",
            " [ 0.84984632 -0.56748376]\n",
            " [-1.4841183   0.7940314 ]\n",
            " [-0.14208864  1.18729148]\n",
            " [ 0.14965694  0.51726701]\n",
            " [-1.25072184  1.21521601]\n",
            " [-0.66723068  1.31332087]\n",
            " [-0.08373953  1.51502531]\n",
            " [-1.60081653  1.56687634]\n",
            " [ 0.84984632 -1.38116985]\n",
            " [ 1.19994102  1.60427306]\n",
            " [-0.78392891 -1.10821893]\n",
            " [-1.30907095  0.03395957]\n",
            " [ 1.25829013  1.19450839]\n",
            " [-1.42576918  0.8804908 ]\n",
            " [ 1.25829013 -0.58564905]\n",
            " [-0.55053245 -0.25703362]\n",
            " [-0.66723068 -0.85636518]\n",
            " [ 0.14965694 -0.72902362]\n",
            " [ 0.67479898  0.44007478]\n",
            " [-0.55053245  0.57287002]\n",
            " [ 0.79149721 -0.26498862]\n",
            " [ 1.19994102 -0.77351423]\n",
            " [-0.84227803  0.65287111]\n",
            " [ 0.84984632  1.12531217]\n",
            " [-0.78392891  0.28530076]\n",
            " [-1.36742007  0.00476389]\n",
            " [ 0.67479898  1.15190402]\n",
            " [ 0.20800605 -0.03080809]\n",
            " [-0.31713599  1.17539999]\n",
            " [-0.49218333  1.56841404]\n",
            " [-1.42576918  1.61034182]\n",
            " [-1.1340236  -0.13278795]\n",
            " [ 0.96654455 -1.15767117]\n",
            " [ 0.03295871 -1.7535788 ]\n",
            " [ 0.90819544 -0.74114065]\n",
            " [-0.43383422  1.50450748]\n",
            " [-0.55053245  1.19493895]\n",
            " [ 0.49975163 -0.57299895]\n",
            " [ 1.19994102 -0.96951895]\n",
            " [ 1.02489367  1.12418453]\n",
            " [-1.01732537  0.64922164]\n",
            " [-0.31713599 -0.57199433]\n",
            " [-1.07567449  0.42344718]\n",
            " [ 0.84984632  1.3547361 ]\n",
            " [ 1.02489367 -0.89406943]\n",
            " [ 0.84984632  1.50204717]\n",
            " [ 1.49168659 -0.70056604]\n",
            " [ 0.61644986 -0.03043905]\n",
            " [ 1.08324278 -1.17706661]\n",
            " [ 0.90819544  0.4719768 ]\n",
            " [ 0.44140251  0.40511787]\n",
            " [-1.1340236  -1.32417266]\n",
            " [ 1.19994102  0.85662579]\n",
            " [ 1.37498836  0.5362729 ]\n",
            " [-0.49218333  0.30346605]\n",
            " [ 0.14965694  0.9914918 ]\n",
            " [ 0.67479898 -0.58868343]\n",
            " [-1.60081653  1.50237521]\n",
            " [-1.01732537  1.46356382]\n",
            " [-0.02539041 -0.93788346]\n",
            " [ 1.08324278 -1.49555377]\n",
            " [ 0.79149721  0.83823498]\n",
            " [-0.55053245 -0.890666  ]\n",
            " [ 0.90819544 -0.62159008]\n",
            " [-1.36742007 -1.75148754]\n",
            " [-1.60081653  1.23469346]\n",
            " [-0.84227803  0.13142886]\n",
            " [ 1.37498836 -1.48013583]\n",
            " [-1.4841183   1.53702458]\n",
            " [-0.02539041  1.62953224]\n",
            " [-0.60888157 -0.06447334]\n",
            " [ 0.67479898 -0.60680772]\n",
            " [-1.36742007  1.52226272]\n",
            " [ 0.09130782  0.45081813]\n",
            " [-1.19237272 -0.78679991]\n",
            " [-0.3754851  -1.35349136]\n",
            " [ 0.67479898 -0.10693419]\n",
            " [-1.60081653  0.36858226]\n",
            " [ 1.66673394 -0.71942841]\n",
            " [ 1.60838482  1.51808019]\n",
            " [ 1.66673394  0.50367379]\n",
            " [-1.25072184  0.6663413 ]\n",
            " [ 1.1415919  -0.85126004]\n",
            " [ 0.14965694 -1.50426737]\n",
            " [-1.4841183  -1.21688263]\n",
            " [ 1.25829013 -0.32852613]\n",
            " [ 0.44140251 -0.28996077]\n",
            " [-0.02539041  1.09765418]\n",
            " [-0.3754851   0.49487819]\n",
            " [-1.42576918 -1.57469375]\n",
            " [-0.3754851  -0.56403932]\n",
            " [-0.02539041 -0.59657693]\n",
            " [ 0.67479898 -0.42499079]\n",
            " [-0.14208864 -0.89269576]\n",
            " [ 1.49168659  1.61497541]\n",
            " [-0.3754851  -0.98694614]\n",
            " [-0.84227803  0.71251312]\n",
            " [-1.54246741  1.05137985]\n",
            " [ 1.49168659  0.37143212]\n",
            " [ 1.55003571  0.108712  ]\n",
            " [-1.19237272  0.96625312]\n",
            " [-1.65916564  0.4712182 ]\n",
            " [ 1.66673394 -0.11478668]\n",
            " [-1.01732537  1.69473046]\n",
            " [-1.4841183   0.3910736 ]\n",
            " [ 0.79149721  0.23670964]\n",
            " [ 0.09130782 -0.3529037 ]\n",
            " [-0.95897626 -0.54191703]\n",
            " [ 0.61644986  0.66781749]\n",
            " [-0.66723068 -0.86142932]\n",
            " [ 0.14965694 -0.45644176]\n",
            " [-1.4841183  -0.40938833]\n",
            " [ 0.73314809 -1.75655168]\n",
            " [-1.36742007 -1.30975934]\n",
            " [-1.42576918  0.45643584]\n",
            " [ 0.03295871  0.90224405]\n",
            " [-0.49218333 -1.16626175]\n",
            " [ 1.55003571  0.01234985]\n",
            " [-0.3754851   1.46352281]\n",
            " [ 1.08324278  0.38340563]\n",
            " [-1.07567449  1.4871828 ]\n",
            " [-0.7255798   1.23481648]\n",
            " [-0.08373953 -1.08515353]\n",
            " [ 0.73314809  0.70224133]\n",
            " [ 0.09130782  0.01720896]\n",
            " [ 0.3830534  -0.1664942 ]\n",
            " [-1.54246741 -0.78066964]\n",
            " [ 1.60838482  0.33893552]\n",
            " [ 1.19994102 -0.64479901]\n",
            " [ 1.08324278  0.72055014]\n",
            " [-0.66723068  0.63919588]\n",
            " [ 0.96654455  1.22725102]\n",
            " [-1.54246741  1.09847429]\n",
            " [-0.66723068 -0.11169079]\n",
            " [-0.66723068 -1.00685415]\n",
            " [-1.07567449  0.07455469]\n",
            " [ 0.3830534  -0.58810936]\n",
            " [-1.07567449 -0.59448566]\n",
            " [ 1.31663925  1.35090211]\n",
            " [-0.66723068 -0.55538723]\n",
            " [ 1.66673394 -1.66757046]]\n"
          ]
        }
      ]
    },
    {
      "cell_type": "markdown",
      "source": [
        "Training the model"
      ],
      "metadata": {
        "id": "OlHa14mFfFZZ"
      }
    },
    {
      "cell_type": "code",
      "source": [
        "model = LogisticRegression()\n",
        "model.fit(X_train, Y_train)"
      ],
      "metadata": {
        "colab": {
          "base_uri": "https://localhost:8080/"
        },
        "id": "itk4lBa0fCAY",
        "outputId": "7d856161-4210-4d51-e19b-c4a28aeca405"
      },
      "execution_count": 17,
      "outputs": [
        {
          "output_type": "execute_result",
          "data": {
            "text/plain": [
              "LogisticRegression()"
            ]
          },
          "metadata": {},
          "execution_count": 17
        }
      ]
    },
    {
      "cell_type": "markdown",
      "source": [
        "Model Evaluation"
      ],
      "metadata": {
        "id": "ZoCAjkrSfsMK"
      }
    },
    {
      "cell_type": "code",
      "source": [
        "# accuracy on training data\n",
        "X_train_prediction = model.predict(X_train)\n",
        "training_data_accuracy = accuracy_score(X_train_prediction, Y_train)\n",
        "print('Accuracy on Training data : ', training_data_accuracy)"
      ],
      "metadata": {
        "colab": {
          "base_uri": "https://localhost:8080/"
        },
        "id": "Dvt9Avj_fr6M",
        "outputId": "73c09843-3e70-4e28-f3c9-3cf8aec97bfd"
      },
      "execution_count": 19,
      "outputs": [
        {
          "output_type": "stream",
          "name": "stdout",
          "text": [
            "Accuracy on Training data :  0.5146443514644351\n"
          ]
        }
      ]
    },
    {
      "cell_type": "code",
      "source": [
        "# accuracy on test data\n",
        "X_test_prediction = model.predict(X_test)\n",
        "test_data_accuracy = accuracy_score(X_test_prediction, Y_test)\n",
        "print('Accuracy on Test data : ', test_data_accuracy)"
      ],
      "metadata": {
        "colab": {
          "base_uri": "https://localhost:8080/"
        },
        "id": "HNhBTIPef2ZV",
        "outputId": "4a28dd3f-21e2-4f92-8e00-23c8e8ec5d7a"
      },
      "execution_count": 20,
      "outputs": [
        {
          "output_type": "stream",
          "name": "stdout",
          "text": [
            "Accuracy on Test data :  0.45\n"
          ]
        }
      ]
    },
    {
      "cell_type": "code",
      "source": [
        "cm = confusion_matrix(Y_test, X_test_prediction)\n",
        "print('Confusion Matrix: ')\n",
        "print(cm)\n",
        "\n",
        "print('Accuracy of model: {0}%'.format(accuracy_score(Y_test, X_test_prediction)*100))"
      ],
      "metadata": {
        "colab": {
          "base_uri": "https://localhost:8080/"
        },
        "id": "l3ZWiUvCg1DY",
        "outputId": "475ac8ab-36a4-43fe-c608-438e2ab5fff6"
      },
      "execution_count": 23,
      "outputs": [
        {
          "output_type": "stream",
          "name": "stdout",
          "text": [
            "Confusion Matrix: \n",
            "[[24  7]\n",
            " [26  3]]\n",
            "Accuracy of model: 45.0%\n"
          ]
        }
      ]
    },
    {
      "cell_type": "markdown",
      "source": [
        "Prediction"
      ],
      "metadata": {
        "id": "jNqmad0Ahb22"
      }
    },
    {
      "cell_type": "code",
      "source": [
        "age = int(input('Enter age: '))\n",
        "salary = int(input('Enter your salary: '))\n",
        "newCustomer = [[age, salary]]\n",
        "result = model.predict(sc.transform(newCustomer))\n",
        "print(result)\n",
        "\n",
        "if result == 1:\n",
        "  print(\"Customer will buy.\")\n",
        "else: print('Customer wont buy') "
      ],
      "metadata": {
        "colab": {
          "base_uri": "https://localhost:8080/"
        },
        "id": "gjt3OG4GhfAk",
        "outputId": "39064377-c4d2-4350-a7db-8a7f3113188d"
      },
      "execution_count": 25,
      "outputs": [
        {
          "output_type": "stream",
          "name": "stdout",
          "text": [
            "Enter age: 25\n",
            "Enter your salary: 60995\n",
            "[0]\n",
            "Customer wont buy\n"
          ]
        },
        {
          "output_type": "stream",
          "name": "stderr",
          "text": [
            "/usr/local/lib/python3.7/dist-packages/sklearn/base.py:451: UserWarning: X does not have valid feature names, but StandardScaler was fitted with feature names\n",
            "  \"X does not have valid feature names, but\"\n"
          ]
        }
      ]
    }
  ]
}